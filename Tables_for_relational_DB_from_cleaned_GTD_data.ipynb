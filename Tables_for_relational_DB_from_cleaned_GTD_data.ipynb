{
  "nbformat": 4,
  "nbformat_minor": 0,
  "metadata": {
    "colab": {
      "name": "Tables for relational DB from cleaned GTD_data.ipynb",
      "provenance": []
    },
    "kernelspec": {
      "name": "python3",
      "display_name": "Python 3"
    },
    "language_info": {
      "name": "python"
    }
  },
  "cells": [
    {
      "cell_type": "code",
      "execution_count": null,
      "metadata": {
        "id": "98xAydJEKjfN"
      },
      "outputs": [],
      "source": [
        "import pandas as pd\n",
        "import numpy as np\n",
        "\n",
        "from google.colab import drive\n",
        "from google.colab import files\n",
        "import uuid"
      ]
    },
    {
      "cell_type": "code",
      "source": [
        "drive.mount('/content/drive')\n",
        "GTD_data = pd.read_csv(\"/content/drive/MyDrive/data_warehouse_project/GTD_data_clean_final_ver.csv\", encoding ='ISO-8859-1', low_memory=False)"
      ],
      "metadata": {
        "colab": {
          "base_uri": "https://localhost:8080/"
        },
        "id": "O1pvHmpvKkej",
        "outputId": "3f53b5a1-c101-4142-cc0d-67527a72db3c"
      },
      "execution_count": null,
      "outputs": [
        {
          "output_type": "stream",
          "name": "stdout",
          "text": [
            "Drive already mounted at /content/drive; to attempt to forcibly remount, call drive.mount(\"/content/drive\", force_remount=True).\n"
          ]
        }
      ]
    },
    {
      "cell_type": "code",
      "source": [
        "GTD_data.drop('Unnamed: 0', axis=1, inplace=True)"
      ],
      "metadata": {
        "id": "e9Xy8PvsK3SR"
      },
      "execution_count": null,
      "outputs": []
    },
    {
      "cell_type": "code",
      "source": [
        "GTD_data_clean = GTD_data"
      ],
      "metadata": {
        "id": "NJI20wEALcA9"
      },
      "execution_count": null,
      "outputs": []
    },
    {
      "cell_type": "code",
      "source": [
        "GTD_data_clean.columns"
      ],
      "metadata": {
        "colab": {
          "base_uri": "https://localhost:8080/"
        },
        "id": "w8RWC1fPUsn_",
        "outputId": "6e39a8b0-1cd3-4abc-aa68-77e36b233d77"
      },
      "execution_count": null,
      "outputs": [
        {
          "output_type": "execute_result",
          "data": {
            "text/plain": [
              "Index(['eventid', 'year', 'month', 'day', 'extended', 'country', 'region',\n",
              "       'provstate', 'city', 'latitude', 'longitude', 'category1', 'category2',\n",
              "       'category3', 'doubtterr', 'multiple', 'success', 'suicide',\n",
              "       'attacktype', 'targtype', 'targsubtype', 'target_name', 'target_natlty',\n",
              "       'gname', 'nperps', 'nperpcap', 'claimed', 'weaptype1_txt', 'nkill',\n",
              "       'nkillus', 'nkillter', 'nwound', 'nwoundus', 'nwoundte',\n",
              "       'is_property_damage', 'property_damage', 'ishostkid', 'ransom',\n",
              "       'INT_LOG', 'INT_IDEO'],\n",
              "      dtype='object')"
            ]
          },
          "metadata": {},
          "execution_count": 57
        }
      ]
    },
    {
      "cell_type": "code",
      "source": [
        "time_cols = ['year','month','day']\n",
        "location_cols = ['country', 'region', 'provstate', 'city', 'latitude', 'longitude']\n",
        "category_cols = ['category1', 'category2','category3']\n",
        "attack_type_cols = ['attacktype']\n",
        "victim_cols = ['targtype', 'targsubtype', 'target_name', 'target_natlty']\n",
        "perpetrator_cols = ['gname']\n",
        "weapon_cols = ['weaptype1_txt']\n",
        "property_damage_cols = [\"property_damage\"]\n",
        "attack_cols = ['eventid', 'extended', 'nperps', 'nperpcap', 'claimed', 'nkill', 'nkillus', 'nkillter', 'nwound', 'nwoundus', 'nwoundte', 'is_property_damage', 'ishostkid', 'ransom', 'INT_LOG', 'INT_IDEO']"
      ],
      "metadata": {
        "id": "NpHRAewuMqJH"
      },
      "execution_count": null,
      "outputs": []
    },
    {
      "cell_type": "code",
      "source": [
        "def create_table(cols, data):\n",
        "  copy = data.copy()\n",
        "  for i in copy.columns:\n",
        "    if i not in cols:\n",
        "      copy.pop(i)\n",
        "\n",
        "  id_list = []\n",
        "  for _ in range(181692):\n",
        "    id_val = uuid.uuid4()\n",
        "    id_list.append(id_val)\n",
        "  \n",
        "  id_col = pd.DataFrame({'id': id_list})\n",
        "  copy = copy.join(id_col)\n",
        "  return copy"
      ],
      "metadata": {
        "id": "aVQag51lMYcJ"
      },
      "execution_count": null,
      "outputs": []
    },
    {
      "cell_type": "code",
      "source": [
        "time_table = create_table(time_cols, GTD_data_clean)\n",
        "time_table.to_csv(r'/content/drive/MyDrive/data_warehouse_project/tables/time_table.csv')"
      ],
      "metadata": {
        "id": "phAjaCZBMmkN"
      },
      "execution_count": null,
      "outputs": []
    },
    {
      "cell_type": "code",
      "source": [
        "location_table = create_table(location_cols, GTD_data_clean)\n",
        "location_table.to_csv(r'/content/drive/MyDrive/data_warehouse_project/tables/location_table.csv')"
      ],
      "metadata": {
        "id": "s07b_aysUX33"
      },
      "execution_count": null,
      "outputs": []
    },
    {
      "cell_type": "code",
      "source": [
        "category_table = create_table(category_cols, GTD_data_clean)\n",
        "category_table.to_csv(r'/content/drive/MyDrive/data_warehouse_project/tables/category_table.csv')"
      ],
      "metadata": {
        "id": "fGnC5uPFVe5p"
      },
      "execution_count": null,
      "outputs": []
    },
    {
      "cell_type": "code",
      "source": [
        "attack_type_table = create_table(attack_type_cols, GTD_data_clean)\n",
        "attack_type_table.to_csv(r'/content/drive/MyDrive/data_warehouse_project/tables/attack_type_table.csv')"
      ],
      "metadata": {
        "id": "R56qOyzAV-Pg"
      },
      "execution_count": null,
      "outputs": []
    },
    {
      "cell_type": "code",
      "source": [
        "victim_table = create_table(victim_cols, GTD_data_clean)\n",
        "victim_table.to_csv(r'/content/drive/MyDrive/data_warehouse_project/tables/victim_table.csv')"
      ],
      "metadata": {
        "id": "PmXr-TW3YkOL"
      },
      "execution_count": null,
      "outputs": []
    },
    {
      "cell_type": "code",
      "source": [
        "perpetrator_table = create_table(perpetrator_cols, GTD_data_clean)\n",
        "perpetrator_table.to_csv(r'/content/drive/MyDrive/data_warehouse_project/tables/perpetrator_table.csv')"
      ],
      "metadata": {
        "id": "6u5o6eKPYkaj"
      },
      "execution_count": null,
      "outputs": []
    },
    {
      "cell_type": "code",
      "source": [
        "weapon_table = create_table(weapon_cols, GTD_data_clean)\n",
        "weapon_table.to_csv(r'/content/drive/MyDrive/data_warehouse_project/tables/weapon_table.csv')"
      ],
      "metadata": {
        "id": "4dXFKMnVYknm"
      },
      "execution_count": null,
      "outputs": []
    },
    {
      "cell_type": "code",
      "source": [
        "property_damage_table = create_table(property_damage_cols, GTD_data_clean)\n",
        "property_damage_table.to_csv(r'/content/drive/MyDrive/data_warehouse_project/tables/property_damage_table.csv')"
      ],
      "metadata": {
        "id": "RLLVqB-aYkyA"
      },
      "execution_count": null,
      "outputs": []
    },
    {
      "cell_type": "code",
      "source": [
        "attack_table = create_table(attack_cols, GTD_data_clean)\n",
        "attack_table.drop('id', axis=1, inplace=True)"
      ],
      "metadata": {
        "id": "DtTe7dNoZraU"
      },
      "execution_count": null,
      "outputs": []
    },
    {
      "cell_type": "code",
      "source": [
        "tables = {\"time_table\":time_table, \"location_table\":location_table, \"category_table\":category_table, \"attack_type_table\":attack_type_table, \"victim_table\":victim_table, \"perpetrator_table\":perpetrator_table, \"weapon_table\":weapon_table, \"property_damage_table\":property_damage_table}"
      ],
      "metadata": {
        "id": "NSUGOSf7ZOST"
      },
      "execution_count": null,
      "outputs": []
    },
    {
      "cell_type": "code",
      "source": [
        "for table_name, table in tables.items():\n",
        "  fk = list(table['id'])\n",
        "  fk = pd.DataFrame({'id_%s' % (table_name): fk})\n",
        "  attack_table = attack_table.join(fk)"
      ],
      "metadata": {
        "id": "XfzMoWmRZqkX"
      },
      "execution_count": null,
      "outputs": []
    },
    {
      "cell_type": "code",
      "source": [
        "attack_table.to_csv(r'/content/drive/MyDrive/data_warehouse_project/tables/attack_table.csv')"
      ],
      "metadata": {
        "id": "_xP8Q2hlaO2M"
      },
      "execution_count": null,
      "outputs": []
    }
  ]
}